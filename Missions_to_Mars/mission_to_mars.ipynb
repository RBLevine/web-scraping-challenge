{
 "cells": [
  {
   "cell_type": "code",
   "execution_count": 1,
   "metadata": {},
   "outputs": [],
   "source": [
    "# Dependencies\n",
    "from bs4 import BeautifulSoup\n",
    "import requests\n",
    "from splinter import Browser\n",
    "from webdriver_manager.chrome import ChromeDriverManager\n",
    "import pandas as pd\n",
    "import pymongo"
   ]
  },
  {
   "cell_type": "code",
   "execution_count": 2,
   "metadata": {},
   "outputs": [
    {
     "name": "stderr",
     "output_type": "stream",
     "text": [
      "[WDM] - Current google-chrome version is 88.0.4324\n",
      "[WDM] - Get LATEST driver version for 88.0.4324\n",
      "[WDM] - Driver [C:\\Users\\belen\\.wdm\\drivers\\chromedriver\\win32\\88.0.4324.96\\chromedriver.exe] found in cache\n"
     ]
    },
    {
     "name": "stdout",
     "output_type": "stream",
     "text": [
      " \n"
     ]
    }
   ],
   "source": [
    "# ChromeDriver directory\n",
    "executable_path={'executable_path': ChromeDriverManager().install()}\n",
    "browser=Browser('chrome', **executable_path, headless=False)"
   ]
  },
  {
   "cell_type": "markdown",
   "metadata": {},
   "source": [
    "## NASA Mars  News"
   ]
  },
  {
   "cell_type": "code",
   "execution_count": 3,
   "metadata": {},
   "outputs": [],
   "source": [
    "# URL of page to be scraped\n",
    "url=\"https://mars.nasa.gov/news/\"\n",
    "browser.visit(url)\n",
    "\n",
    "# Beautiful Soup\n",
    "html=browser.html\n",
    "soup=BeautifulSoup(html,'html.parser')"
   ]
  },
  {
   "cell_type": "code",
   "execution_count": 11,
   "metadata": {},
   "outputs": [],
   "source": [
    "# Store Latest News Title and Paragraph Text\n",
    "newsInfo=soup.select_one('div.grid_layout ul.item_list li.slide')\n",
    "news_title=newsInfo.find('div', class_='content_title').text\n",
    "news_p=newsInfo.find('div', class_='article_teaser_body').get_text()\n"
   ]
  },
  {
   "cell_type": "code",
   "execution_count": 12,
   "metadata": {},
   "outputs": [
    {
     "name": "stdout",
     "output_type": "stream",
     "text": [
      "Sensors Prepare to Collect Data as Perseverance Enters Mars' Atmosphere\n",
      "Technology will collect critical data about the harsh entry environment during Perseverance’s entry next Thursday.\n"
     ]
    }
   ],
   "source": [
    "# Check Scraped data\n",
    "print(news_title)\n",
    "print(news_p)"
   ]
  },
  {
   "cell_type": "markdown",
   "metadata": {},
   "source": [
    "## JPL Mars Space Images - Featured Image"
   ]
  },
  {
   "cell_type": "code",
   "execution_count": 38,
   "metadata": {
    "scrolled": true
   },
   "outputs": [],
   "source": [
    "# URL of page to be scraped\n",
    "space_url=\"https://www.jpl.nasa.gov/news\"\n",
    "browser.visit(space_url)"
   ]
  },
  {
   "cell_type": "code",
   "execution_count": 7,
   "metadata": {},
   "outputs": [],
   "source": [
    "# Beautiful Soup\n",
    "html_image=browser.html\n",
    "soup=BeautifulSoup(html_image,'html.parser')"
   ]
  },
  {
   "cell_type": "code",
   "execution_count": 39,
   "metadata": {},
   "outputs": [
    {
     "name": "stdout",
     "output_type": "stream",
     "text": [
      "[<img alt=\"\" class=\"print_only print_logo\" src=\"/assets/logo_mars_trio_black@2x.png\"/>, <img alt=\"expand arrow\" class=\"arrow_expand\" src=\"/assets/arrow_down.png\"/>, <img alt=\"More\" src=\"/assets/overlay-arrow.png\"/>, <img alt=\"Mars 2020 Perseverance Rover\" class=\"mission_image\" src=\"/system/missions/list_view_images/23_PIA23764-RoverNamePlateonMars-320x240.jpg\"/>, <img alt=\"More\" src=\"/assets/overlay-arrow.png\"/>, <img alt=\"Curiosity Rover\" class=\"mission_image\" src=\"/system/missions/list_view_images/2_PIA14175-thmfeat.jpg\"/>, <img alt=\"More\" src=\"/assets/overlay-arrow.png\"/>, <img alt=\"InSight Lander\" class=\"mission_image\" src=\"/system/missions/list_view_images/21_PIA22743-320x240.jpg\"/>, <img alt=\"More\" src=\"/assets/overlay-arrow.png\"/>, <img alt=\"MAVEN\" class=\"mission_image\" src=\"/system/missions/list_view_images/6_maven_320x240.jpg\"/>, <img alt=\"More\" src=\"/assets/overlay-arrow.png\"/>, <img alt=\"Mars Reconnaissance Orbiter\" class=\"mission_image\" src=\"/system/missions/list_view_images/8_MRO_320x240.jpg\"/>, <img alt=\"More\" src=\"/assets/overlay-arrow.png\"/>, <img alt=\"2001 Mars Odyssey\" class=\"mission_image\" src=\"/system/missions/list_view_images/5_mars_odyssey320x240.jpg\"/>, <img alt=\"More\" src=\"/assets/overlay-arrow.png\"/>, <img alt=\"MEDLI\" src=\"/system/news_items/list_view_images/8859_medli2_320x240.jpg\"/>, <img alt=\"More\" src=\"/assets/overlay-arrow.png\"/>, <img alt=\"InSight on Mars\" src=\"/system/news_items/list_view_images/8858_25325_PIA22743-320.jpg\"/>, <img alt=\"More\" src=\"/assets/overlay-arrow.png\"/>, <img alt=\"descent stage\" src=\"/system/news_items/list_view_images/8857_25451_09_Touchdown-320.jpg\"/>, <img alt=\"More\" src=\"/assets/overlay-arrow.png\"/>, <img alt=\"diagram of rover landing on Mars\" src=\"/system/news_items/list_view_images/8852_Mars2020-Landing-Technique-320x240.jpg\"/>, <img alt=\"More\" src=\"/assets/overlay-arrow.png\"/>, <img alt=\"astronauts on Mars\" src=\"/system/news_items/list_view_images/8851_25153_PIA24031-320x240.jpg\"/>, <img alt=\"More\" src=\"/assets/overlay-arrow.png\"/>, <img alt=\"A graphic illustrates new technologies created by the Mars exploration program\" src=\"/system/news_items/list_view_images/8848_spinoff-320.jpg\"/>, <img alt=\"More\" src=\"/assets/overlay-arrow.png\"/>, <img alt=\"Phobos moon\" src=\"/system/news_items/list_view_images/8846_Phobos-Mars-Moon-320x240.jpg\"/>, <img alt=\"More\" src=\"/assets/overlay-arrow.png\"/>, <img alt=\"This illustration shows the MAVEN spacecraft and the limb of Mars.\" src=\"/system/news_items/list_view_images/8844_mavenbeautyshotverticallimb-320x240.jpg\"/>, <img alt=\"More\" src=\"/assets/overlay-arrow.png\"/>, <img alt=\"Stages of Perseverance landing\" src=\"/system/news_items/list_view_images/8843_1-PIA24265---EDL-Milestones-Unannotated-320x240.jpg\"/>, <img alt=\"More\" src=\"/assets/overlay-arrow.png\"/>, <img alt=\"Video illustrating Mars Helicopter's mission\" src=\"/system/news_items/list_view_images/8840_Mars-Helicopter-Ingenuity-7secs-320.jpg\"/>, <img alt=\"More\" src=\"/assets/overlay-arrow.png\"/>, <img alt=\"illustration of parachute\" src=\"/system/news_items/list_view_images/8837_06_Parachute_320x240.jpg\"/>, <img alt=\"More\" src=\"/assets/overlay-arrow.png\"/>, <img alt=\"Illustration of NASA's InSight lander on Mars\" src=\"/system/news_items/list_view_images/8836_insight-illustration-320.jpg\"/>, <img alt=\"More\" src=\"/assets/overlay-arrow.png\"/>, <img alt=\"Illustration of sound waves from Mars\" src=\"/system/news_items/list_view_images/8834_SoundsOfMars_NoText-320x240.jpg\"/>, <img alt=\"More\" src=\"/assets/overlay-arrow.png\"/>, <img alt=\"Mars panorama\" src=\"/system/news_items/list_view_images/8832_25512_PIA24180-panorama-320x240.jpg\"/>, <img alt=\"More\" src=\"/assets/overlay-arrow.png\"/>, <img alt=\"Collage for mission to Mars\" src=\"/system/news_items/list_view_images/8830_C1-marsworkshop_web-320x240.jpg\"/>, <img alt=\"More\" src=\"/assets/overlay-arrow.png\"/>, <img alt=\"InSight on Mars\" src=\"/system/news_items/list_view_images/8829_PIA22743-320x240.jpg\"/>, <img alt=\"More\" src=\"/assets/overlay-arrow.png\"/>, <img alt=\"Mars 2020 in a clean room\" src=\"/system/news_items/list_view_images/8826_c1-PIA23499_fig1-320.jpg\"/>, <img alt=\"More\" src=\"/assets/overlay-arrow.png\"/>, <img alt=\"A tray holding 39 sample tubes – each protected in a gold-colored sheath – is installed in NASA's Perseverance rover in this picture taken at the agency's Kennedy Space Center on May 21, 2020.\" src=\"/system/news_items/list_view_images/8822_1-PIA24304-CatScanMars-320x240.gif\"/>, <img alt=\"More\" src=\"/assets/overlay-arrow.png\"/>, <img alt=\"Illustration of Mars rover drilling\" src=\"/system/news_items/list_view_images/8819_24759_PIA23491-web.jpg\"/>, <img alt=\"More\" src=\"/assets/overlay-arrow.png\"/>, <img alt=\"clouds over NASA Insight on Mars\" src=\"/system/news_items/list_view_images/8817_PIA23180_320.gif\"/>, <img alt=\"More\" src=\"/assets/overlay-arrow.png\"/>, <img alt=\"Bill Allen standing in the Mars yard\" src=\"/system/news_items/list_view_images/8815_C1-bill-allen-Mars-Yard-2020-320.jpg\"/>, <img alt=\"More\" src=\"/assets/overlay-arrow.png\"/>, <img alt=\"NASA's Perseverance Mars rover is &quot;festooned&quot; with a variety of objects that serve both decorative and functional purposes\" src=\"/system/news_items/list_view_images/8812_Perseverance-festooning-collage-320.jpg\"/>, <img alt=\"More\" src=\"/assets/overlay-arrow.png\"/>, <img alt=\"Engineers lower MOXIE into the belly of NASA's Perseverance rover.\" src=\"/system/news_items/list_view_images/8805_1-MOXIE-PIA24176-320.gif\"/>, <img alt=\"More\" src=\"/assets/overlay-arrow.png\"/>, <img alt=\"Location of microphone on Perseverance (Illustration): \" src=\"/system/news_items/list_view_images/8801_20201118_mars2020-320x240.jpg\"/>, <img alt=\"More\" src=\"/assets/overlay-arrow.png\"/>, <img alt=\"Sky-facing Camera on Perseverance Rover\" src=\"/system/news_items/list_view_images/8798_PIA22109-320.jpg\"/>, <img alt=\"More\" src=\"/assets/overlay-arrow.png\"/>, <img alt=\"\" src=\"/system/news_items/list_view_images/8797_maven_illo_v7-320.jpg\"/>, <img alt=\"More\" src=\"/assets/overlay-arrow.png\"/>, <img alt=\"Curiosity Mars rover's selfie\" src=\"/system/news_items/list_view_images/8796_PIA24173-320.jpg\"/>, <img alt=\"More\" src=\"/assets/overlay-arrow.png\"/>, <img alt=\"illustration of a concept of how the NASA Mars Ascent Vehicle could launch from Mars\" src=\"/system/news_items/list_view_images/8794_PIA23496-320.jpg\"/>, <img alt=\"More\" src=\"/assets/overlay-arrow.png\"/>, <img alt=\"\" src=\"/system/news_items/list_view_images/8792_parachute-320x240.jpg\"/>, <img alt=\"More\" src=\"/assets/overlay-arrow.png\"/>, <img alt=\"illustration of the Mars 2020 spacecraft on route to Mars\" src=\"/system/news_items/list_view_images/8785_PIA24231-320.jpg\"/>, <img alt=\"More\" src=\"/assets/overlay-arrow.png\"/>, <img alt=\"Mars 2020 heat shield and back shell prior to launch\" src=\"/system/news_items/list_view_images/8782_PIA-23989-320.jpg\"/>, <img alt=\"More\" src=\"/assets/overlay-arrow.png\"/>, <img alt=\"\" src=\"/system/news_items/list_view_images/8778_3d-320x240.jpg\"/>, <img alt=\"More\" src=\"/assets/overlay-arrow.png\"/>, <img alt=\"Animated view of the spike-like mole trying to burrow on Mars\" src=\"/system/news_items/list_view_images/8776_PIA24098-320.gif\"/>, <img alt=\"More\" src=\"/assets/overlay-arrow.png\"/>, <img alt=\"Illustration of RIMFAX at work on NASA's Perseverance\" src=\"/system/news_items/list_view_images/8770_PIA24047-320.jpg\"/>, <img alt=\"More\" src=\"/assets/overlay-arrow.png\"/>, <img alt=\"crater cluster on Mars\" src=\"/system/news_items/list_view_images/8765_PIA24040-320.jpg\"/>, <img alt=\"More\" src=\"/assets/overlay-arrow.png\"/>, <img alt=\"small dome called the Laser Retroreflector Array on the Perseverance rover\" src=\"/system/news_items/list_view_images/8762_PIA24097-320x240.jpg\"/>, <img alt=\"More\" src=\"/assets/overlay-arrow.png\"/>, <img alt=\"Illustration of the PIXL instrument on board of Perseverance rover\" src=\"/system/news_items/list_view_images/8759_PIA24092-Main-320.jpg\"/>, <img alt=\"More\" src=\"/assets/overlay-arrow.png\"/>, <img alt=\"Christina Hernandez inside the mission control area at JPL. \" src=\"/system/news_items/list_view_images/8756_25254_Christina_hernandez_mainmax-320x240.png\"/>, <img alt=\"More\" src=\"/assets/overlay-arrow.png\"/>, <img alt=\"Engineers test drive Perseverance Mars rover's twin.\" src=\"/system/news_items/list_view_images/8749_PIA23964-320.jpg\"/>, <img alt=\"More\" src=\"/assets/overlay-arrow.png\"/>, <img alt=\"InSight Collecting Mars Weather Data\" src=\"/system/news_items/list_view_images/8744_PIA22957-226.jpg\"/>, <img alt=\"More\" src=\"/assets/overlay-arrow.png\"/>, <img alt=\"NASA to Hold Mars 2020 Perseverance Rover Launch Briefing\" class=\"img-lazy\" data-lazy=\"/system/news_items/list_view_images/8692_PIA23920-320x240.jpg\" src=\"/assets/loading_320x240.png\"/>, <img alt=\"More\" src=\"/assets/overlay-arrow.png\"/>, <img alt=\"Alabama High School Student Names NASA's Mars Helicopter\" class=\"img-lazy\" data-lazy=\"/system/news_items/list_view_images/8659_1-PIA23883-MAIN-320x240.jpg\" src=\"/assets/loading_320x240.png\"/>, <img alt=\"More\" src=\"/assets/overlay-arrow.png\"/>, <img alt=\"NASA to Host Virtual Briefing on February Perseverance Mars Rover Landing\" class=\"img-lazy\" src=\"/system/news_items/list_view_images/8837_06_Parachute_320x240.jpg?1613430466818\" style=\"opacity: 1;\"/>, <img alt=\"More\" src=\"/assets/overlay-arrow.png\"/>, <img alt=\"NASA InSight's ‘Mole' Ends Its Journey on Mars\" class=\"img-lazy\" src=\"/system/news_items/list_view_images/8836_insight-illustration-320.jpg?1613430466819\" style=\"opacity: 1;\"/>, <img alt=\"More\" src=\"/assets/overlay-arrow.png\"/>, <img alt=\"NASA to Broadcast Mars 2020 Perseverance Launch, Prelaunch Activities\" class=\"img-lazy\" src=\"/system/news_items/list_view_images/8716_PIA23499-320x240.jpg?1613430466819\" style=\"opacity: 1;\"/>, <img alt=\"More\" src=\"/assets/overlay-arrow.png\"/>, <img alt=\"The Launch Is Approaching for NASA's Next Mars Rover, Perseverance\" class=\"img-lazy\" data-lazy=\"/system/news_items/list_view_images/8695_24732_PIA23499-226.jpg\" src=\"/assets/loading_320x240.png\"/>, <img alt=\"More\" src=\"/assets/overlay-arrow.png\"/>, <img alt=\"NASA to Hold Mars 2020 Perseverance Rover Launch Briefing\" class=\"img-lazy\" data-lazy=\"/system/news_items/list_view_images/8692_PIA23920-320x240.jpg\" src=\"/assets/loading_320x240.png\"/>, <img alt=\"More\" src=\"/assets/overlay-arrow.png\"/>, <img alt=\"Alabama High School Student Names NASA's Mars Helicopter\" class=\"img-lazy\" data-lazy=\"/system/news_items/list_view_images/8659_1-PIA23883-MAIN-320x240.jpg\" src=\"/assets/loading_320x240.png\"/>, <img alt=\"More\" src=\"/assets/overlay-arrow.png\"/>, <img alt=\"NASA to Host Virtual Briefing on February Perseverance Mars Rover Landing\" class=\"img-lazy\" src=\"/system/news_items/list_view_images/8837_06_Parachute_320x240.jpg?1613430466818\" style=\"opacity: 0;\"/>, <img alt=\"More\" src=\"/assets/overlay-arrow.png\"/>, <img alt=\"NASA InSight's ‘Mole' Ends Its Journey on Mars\" class=\"img-lazy\" src=\"/system/news_items/list_view_images/8836_insight-illustration-320.jpg?1613430466819\" style=\"opacity: 0;\"/>, <img alt=\"twitter\" src=\"/assets/twitter_icon@2x.png\"/>, <img alt=\"facebook\" src=\"/assets/facebook_icon@2x.png\"/>, <img alt=\"instagram\" src=\"/assets/instagram_icon@2x.png\"/>, <img alt=\"rss\" src=\"/assets/rss_icon@2x.png\"/>]\n"
     ]
    }
   ],
   "source": [
    "imagePath=soup.find_all('img')\n",
    "print(imagePath)\n",
    "#mainURL=\"https://www.jpl.nasa.gov\"\n",
    "\n",
    "#featured_image_url=mainURL+imagePath\n",
    "#print(featured_image_url)"
   ]
  },
  {
   "cell_type": "markdown",
   "metadata": {},
   "source": [
    "## Mars Facts"
   ]
  },
  {
   "cell_type": "code",
   "execution_count": 40,
   "metadata": {},
   "outputs": [
    {
     "data": {
      "text/plain": [
       "[                      0                              1\n",
       " 0  Equatorial Diameter:                       6,792 km\n",
       " 1       Polar Diameter:                       6,752 km\n",
       " 2                 Mass:  6.39 × 10^23 kg (0.11 Earths)\n",
       " 3                Moons:            2 (Phobos & Deimos)\n",
       " 4       Orbit Distance:       227,943,824 km (1.38 AU)\n",
       " 5         Orbit Period:           687 days (1.9 years)\n",
       " 6  Surface Temperature:                   -87 to -5 °C\n",
       " 7         First Record:              2nd millennium BC\n",
       " 8          Recorded By:           Egyptian astronomers,\n",
       "   Mars - Earth Comparison             Mars            Earth\n",
       " 0               Diameter:         6,779 km        12,742 km\n",
       " 1                   Mass:  6.39 × 10^23 kg  5.97 × 10^24 kg\n",
       " 2                  Moons:                2                1\n",
       " 3      Distance from Sun:   227,943,824 km   149,598,262 km\n",
       " 4         Length of Year:   687 Earth days      365.24 days\n",
       " 5            Temperature:     -87 to -5 °C      -88 to 58°C,\n",
       "                       0                              1\n",
       " 0  Equatorial Diameter:                       6,792 km\n",
       " 1       Polar Diameter:                       6,752 km\n",
       " 2                 Mass:  6.39 × 10^23 kg (0.11 Earths)\n",
       " 3                Moons:            2 (Phobos & Deimos)\n",
       " 4       Orbit Distance:       227,943,824 km (1.38 AU)\n",
       " 5         Orbit Period:           687 days (1.9 years)\n",
       " 6  Surface Temperature:                   -87 to -5 °C\n",
       " 7         First Record:              2nd millennium BC\n",
       " 8          Recorded By:           Egyptian astronomers]"
      ]
     },
     "execution_count": 40,
     "metadata": {},
     "output_type": "execute_result"
    }
   ],
   "source": [
    "# URL of page to be scraped\n",
    "mars_url=\"https://space-facts.com/mars/\"\n",
    "\n",
    "\n",
    "# use Pandas to read\n",
    "table=pd.read_html(mars_url)\n",
    "table"
   ]
  },
  {
   "cell_type": "code",
   "execution_count": 41,
   "metadata": {},
   "outputs": [
    {
     "data": {
      "text/html": [
       "<div>\n",
       "<style scoped>\n",
       "    .dataframe tbody tr th:only-of-type {\n",
       "        vertical-align: middle;\n",
       "    }\n",
       "\n",
       "    .dataframe tbody tr th {\n",
       "        vertical-align: top;\n",
       "    }\n",
       "\n",
       "    .dataframe thead th {\n",
       "        text-align: right;\n",
       "    }\n",
       "</style>\n",
       "<table border=\"1\" class=\"dataframe\">\n",
       "  <thead>\n",
       "    <tr style=\"text-align: right;\">\n",
       "      <th></th>\n",
       "      <th>Description</th>\n",
       "      <th>Value</th>\n",
       "    </tr>\n",
       "  </thead>\n",
       "  <tbody>\n",
       "    <tr>\n",
       "      <th>0</th>\n",
       "      <td>Equatorial Diameter:</td>\n",
       "      <td>6,792 km</td>\n",
       "    </tr>\n",
       "    <tr>\n",
       "      <th>1</th>\n",
       "      <td>Polar Diameter:</td>\n",
       "      <td>6,752 km</td>\n",
       "    </tr>\n",
       "    <tr>\n",
       "      <th>2</th>\n",
       "      <td>Mass:</td>\n",
       "      <td>6.39 × 10^23 kg (0.11 Earths)</td>\n",
       "    </tr>\n",
       "    <tr>\n",
       "      <th>3</th>\n",
       "      <td>Moons:</td>\n",
       "      <td>2 (Phobos &amp; Deimos)</td>\n",
       "    </tr>\n",
       "    <tr>\n",
       "      <th>4</th>\n",
       "      <td>Orbit Distance:</td>\n",
       "      <td>227,943,824 km (1.38 AU)</td>\n",
       "    </tr>\n",
       "    <tr>\n",
       "      <th>5</th>\n",
       "      <td>Orbit Period:</td>\n",
       "      <td>687 days (1.9 years)</td>\n",
       "    </tr>\n",
       "    <tr>\n",
       "      <th>6</th>\n",
       "      <td>Surface Temperature:</td>\n",
       "      <td>-87 to -5 °C</td>\n",
       "    </tr>\n",
       "    <tr>\n",
       "      <th>7</th>\n",
       "      <td>First Record:</td>\n",
       "      <td>2nd millennium BC</td>\n",
       "    </tr>\n",
       "    <tr>\n",
       "      <th>8</th>\n",
       "      <td>Recorded By:</td>\n",
       "      <td>Egyptian astronomers</td>\n",
       "    </tr>\n",
       "  </tbody>\n",
       "</table>\n",
       "</div>"
      ],
      "text/plain": [
       "            Description                          Value\n",
       "0  Equatorial Diameter:                       6,792 km\n",
       "1       Polar Diameter:                       6,752 km\n",
       "2                 Mass:  6.39 × 10^23 kg (0.11 Earths)\n",
       "3                Moons:            2 (Phobos & Deimos)\n",
       "4       Orbit Distance:       227,943,824 km (1.38 AU)\n",
       "5         Orbit Period:           687 days (1.9 years)\n",
       "6  Surface Temperature:                   -87 to -5 °C\n",
       "7         First Record:              2nd millennium BC\n",
       "8          Recorded By:           Egyptian astronomers"
      ]
     },
     "execution_count": 41,
     "metadata": {},
     "output_type": "execute_result"
    }
   ],
   "source": [
    "# Convert to data frame\n",
    "marsDF=table[2]\n",
    "marsDF.columns=[\"Description\",\"Value\"]\n",
    "marsDF"
   ]
  },
  {
   "cell_type": "code",
   "execution_count": 42,
   "metadata": {},
   "outputs": [
    {
     "data": {
      "text/plain": [
       "'<table border=\"1\" class=\"dataframe\">  <thead>    <tr style=\"text-align: right;\">      <th></th>      <th>Description</th>      <th>Value</th>    </tr>  </thead>  <tbody>    <tr>      <th>0</th>      <td>Equatorial Diameter:</td>      <td>6,792 km</td>    </tr>    <tr>      <th>1</th>      <td>Polar Diameter:</td>      <td>6,752 km</td>    </tr>    <tr>      <th>2</th>      <td>Mass:</td>      <td>6.39 × 10^23 kg (0.11 Earths)</td>    </tr>    <tr>      <th>3</th>      <td>Moons:</td>      <td>2 (Phobos &amp; Deimos)</td>    </tr>    <tr>      <th>4</th>      <td>Orbit Distance:</td>      <td>227,943,824 km (1.38 AU)</td>    </tr>    <tr>      <th>5</th>      <td>Orbit Period:</td>      <td>687 days (1.9 years)</td>    </tr>    <tr>      <th>6</th>      <td>Surface Temperature:</td>      <td>-87 to -5 °C</td>    </tr>    <tr>      <th>7</th>      <td>First Record:</td>      <td>2nd millennium BC</td>    </tr>    <tr>      <th>8</th>      <td>Recorded By:</td>      <td>Egyptian astronomers</td>    </tr>  </tbody></table>'"
      ]
     },
     "execution_count": 42,
     "metadata": {},
     "output_type": "execute_result"
    }
   ],
   "source": [
    "# Convert to html\n",
    "marsHtml=marsDF.to_html()\n",
    "marsHtml=marsHtml.replace('\\n',\"\")\n",
    "marsHtml"
   ]
  },
  {
   "cell_type": "markdown",
   "metadata": {},
   "source": [
    "## Mars Hemispheres"
   ]
  },
  {
   "cell_type": "code",
   "execution_count": 43,
   "metadata": {},
   "outputs": [],
   "source": [
    "# URL of page to be scraped\n",
    "hemisphere_url=\"https://astrogeology.usgs.gov/search/results?q=hemisphere+enhanced&k1=target&v1=Mars\"\n",
    "browser.visit(hemisphere_url)"
   ]
  },
  {
   "cell_type": "code",
   "execution_count": 44,
   "metadata": {},
   "outputs": [],
   "source": [
    "# Beautiful Soup\n",
    "hemisphere_html=browser.html\n",
    "soup=BeautifulSoup(hemisphere_html, 'html.parser')"
   ]
  },
  {
   "cell_type": "code",
   "execution_count": 45,
   "metadata": {},
   "outputs": [],
   "source": [
    "# Hemisphere information\n",
    "hemisphereInfo=soup.find_all('div', class_='item')\n",
    "\n",
    "# Empty list for hemispher urls\n",
    "hemisphere_image_urls=[]"
   ]
  },
  {
   "cell_type": "code",
   "execution_count": 46,
   "metadata": {},
   "outputs": [],
   "source": [
    "# Main url\n",
    "main_url=\"https://astrogeology.usgs.gov\""
   ]
  },
  {
   "cell_type": "code",
   "execution_count": 47,
   "metadata": {},
   "outputs": [],
   "source": [
    "# loop through the hemisphere information\n",
    "for item in hemisphereInfo:\n",
    "    \n",
    "    # Store hemisphere name\n",
    "    title=item.find('h3').text\n",
    "    title=title.replace(\"Enhanced\",\"\")\n",
    "    \n",
    "    # Grab partial image link\n",
    "    partialImage=item.find('a')['href']\n",
    "    \n",
    "    browser.visit(main_url+partialImage)\n",
    "    # Store the full url\n",
    "    fullUrl=browser.html\n",
    "    soup=BeautifulSoup(fullUrl,'html.parser')\n",
    "    \n",
    "    # Store the full image url sourc\n",
    "    imageUrl=main_url+soup.find('img', class_='wide-image')['src']\n",
    "    \n",
    "    # Add information to the hemisphere list\n",
    "    hemisphere_image_urls.append({\"title\":title, \"image_url\":imageUrl})   \n",
    "    "
   ]
  },
  {
   "cell_type": "code",
   "execution_count": null,
   "metadata": {},
   "outputs": [],
   "source": []
  },
  {
   "cell_type": "code",
   "execution_count": null,
   "metadata": {},
   "outputs": [],
   "source": []
  }
 ],
 "metadata": {
  "kernelspec": {
   "display_name": "Python [conda env:PythonData] *",
   "language": "python",
   "name": "conda-env-PythonData-py"
  },
  "language_info": {
   "codemirror_mode": {
    "name": "ipython",
    "version": 3
   },
   "file_extension": ".py",
   "mimetype": "text/x-python",
   "name": "python",
   "nbconvert_exporter": "python",
   "pygments_lexer": "ipython3",
   "version": "3.7.1"
  }
 },
 "nbformat": 4,
 "nbformat_minor": 4
}
